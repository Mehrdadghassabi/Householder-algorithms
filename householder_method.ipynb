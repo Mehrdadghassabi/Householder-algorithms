{
  "nbformat": 4,
  "nbformat_minor": 0,
  "metadata": {
    "colab": {
      "provenance": []
    },
    "kernelspec": {
      "name": "python3",
      "display_name": "Python 3"
    },
    "language_info": {
      "name": "python"
    }
  },
  "cells": [
    {
      "cell_type": "code",
      "execution_count": 2,
      "metadata": {
        "id": "I-lJfJ_qn_Zy"
      },
      "outputs": [],
      "source": [
        "import math\n",
        "import matplotlib.pyplot as plt\n",
        "import numpy as np"
      ]
    },
    {
      "cell_type": "code",
      "source": [
        "def newton_raphson(initial_guess,maxgeneration):\n",
        "    ypoints = []\n",
        "    # print(\"generation# :\" + str(maxgeneration))\n",
        "    # print(\"predicted answer  x=\" + str(initial_guess))\n",
        "    # print(\"--------------------------------------\")\n",
        "    guess = initial_guess\n",
        "    count = 0\n",
        "    while math.cos(guess) != 0 :\n",
        "          count = count + 1\n",
        "          ypoints.append(guess)\n",
        "\n",
        "          f = math.cos(guess)\n",
        "          fprim = -math.sin(guess)\n",
        "          a = fprim\n",
        "          b = -fprim * guess + f\n",
        "          guess = -b/a\n",
        "          # print(\"generation# :\" + str(count))\n",
        "          # print(\"predicted answer  x=\" + str(guess))\n",
        "          # print(\"--------------------------------------\")\n",
        "          if count ==  maxgeneration :\n",
        "             break\n",
        "    return ypoints\n",
        "# newton_raphson method\n",
        "# householder method number one\n"
      ],
      "metadata": {
        "id": "wvCdM03_oO5f"
      },
      "execution_count": 3,
      "outputs": []
    },
    {
      "cell_type": "code",
      "source": [
        "def halley(initial_guess,maxgeneration):\n",
        "    ypoints = []\n",
        "    # print(\"generation# :\" + str(maxgeneration))\n",
        "    # print(\"predicted answer  x=\" + str(initial_guess))\n",
        "    # print(\"--------------------------------------\")\n",
        "    guess = initial_guess\n",
        "    count = 0\n",
        "    while math.cos(guess) != 0 :\n",
        "          count = count + 1\n",
        "          ypoints.append(guess)\n",
        "\n",
        "          f = math.cos(guess)\n",
        "          fprim = -math.sin(guess)\n",
        "          fprimprim = -math.cos(guess)\n",
        "          a = 1/2 * fprimprim\n",
        "          b = fprim - fprimprim * guess\n",
        "          c = 1/2 * fprimprim * pow(guess,2) - fprim * guess + f\n",
        "          delta = pow(b,2) - 4*a*c\n",
        "          guess = (-b + math.sqrt(delta))/(2*a)\n",
        "          ypoints.append(guess)\n",
        "          # print(\"generation# :\" + str(count))\n",
        "          # print(\"predicted answer  x=\" + str(guess))\n",
        "          # print(\"--------------------------------------\")\n",
        "          if count ==  maxgeneration :\n",
        "             break\n",
        "    return ypoints\n",
        "# halley method\n",
        "# householder method number two"
      ],
      "metadata": {
        "id": "oe7zR7ASoSGV"
      },
      "execution_count": 4,
      "outputs": []
    },
    {
      "cell_type": "code",
      "source": [
        "def house_holder3(initial_guess,maxgeneration):\n",
        "    ypoints = []\n",
        "    # print(\"generation# :\" + str(maxgeneration))\n",
        "    # print(\"predicted answer  x=\" + str(initial_guess))\n",
        "    # print(\"--------------------------------------\")\n",
        "    guess = initial_guess\n",
        "    count = 0\n",
        "    while math.cos(guess) != 0 :\n",
        "          count = count + 1\n",
        "          ypoints.append(guess)\n",
        "\n",
        "          f = math.cos(guess)\n",
        "          fprim = -math.sin(guess)\n",
        "          fprimprim = -math.cos(guess)\n",
        "          fprimprimprim = math.sin(guess)\n",
        "          a = 1/6 * fprimprimprim\n",
        "          b = 1/2 * fprimprim - 1/2 * fprimprimprim * guess\n",
        "          c = fprim - fprimprim * guess + 1/2 * fprimprimprim * pow(guess,2)\n",
        "          d = f - fprim * guess + 1/2 * pow(guess,2) - 1/6 * fprimprimprim * pow(guess,3)\n",
        "          p = (3*a*c - b ** 2)/(3 * a ** 2)\n",
        "          q = (2 * b ** 3 - 9 * a * b * c + 27 * a ** 2 * d)/(27 * a ** 2)\n",
        "          delta = (q/2) ** 2 + (p/3) ** 3\n",
        "          print(a)\n",
        "          print(b)\n",
        "          print(c)\n",
        "          print(d)\n",
        "          t = np.cbrt(-q/2 - math.sqrt(delta)) + np.cbrt(-q/2 + math.sqrt(delta))\n",
        "          guess = t - b/(3*a)\n",
        "          ypoints.append(guess)\n",
        "          # print(\"generation# :\" + str(count))\n",
        "          # print(\"predicted answer  x=\" + str(guess))\n",
        "          # print(\"--------------------------------------\")\n",
        "          if count ==  maxgeneration :\n",
        "             break\n",
        "    print(ypoints)\n",
        "    return ypoints\n",
        "# halley method\n",
        "# householder method number two"
      ],
      "metadata": {
        "id": "bS1m0PIEFaij"
      },
      "execution_count": 5,
      "outputs": []
    },
    {
      "cell_type": "code",
      "source": [
        "ypoints = newton_raphson(1,10)\n",
        "plt.plot(ypoints, marker = 'o')\n",
        "plt.show()"
      ],
      "metadata": {
        "colab": {
          "base_uri": "https://localhost:8080/",
          "height": 430
        },
        "id": "kRSJnpvjoVeW",
        "outputId": "5c5705fa-81aa-4c7c-848e-cb1fde777480"
      },
      "execution_count": 6,
      "outputs": [
        {
          "output_type": "display_data",
          "data": {
            "text/plain": [
              "<Figure size 640x480 with 1 Axes>"
            ],
            "image/png": "[encoded data removed]"
          },
          "metadata": {}
        }
      ]
    },
    {
      "cell_type": "code",
      "source": [
        "ypoints = halley(1,10)\n",
        "plt.plot(ypoints, marker = 'o')\n",
        "plt.show()"
      ],
      "metadata": {
        "colab": {
          "base_uri": "https://localhost:8080/",
          "height": 430
        },
        "id": "6GdHFtH7oYfh",
        "outputId": "de9c1f89-c81a-49ef-e635-0e0325f0cb1b"
      },
      "execution_count": 7,
      "outputs": [
        {
          "output_type": "display_data",
          "data": {
            "text/plain": [
              "<Figure size 640x480 with 1 Axes>"
            ],
            "image/png": "[encoded data removed]"
          },
          "metadata": {}
        }
      ]
    }
  ]
}